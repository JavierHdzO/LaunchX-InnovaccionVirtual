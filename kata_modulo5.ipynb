{
 "cells": [
  {
   "cell_type": "markdown",
   "metadata": {},
   "source": [
    "# Ejercicio1  Utilizar operadores aritméticos"
   ]
  },
  {
   "cell_type": "code",
   "execution_count": 15,
   "metadata": {},
   "outputs": [],
   "source": [
    "import math"
   ]
  },
  {
   "cell_type": "code",
   "execution_count": 3,
   "metadata": {},
   "outputs": [],
   "source": [
    "tierra  = 149597870\n",
    "jupitar = 778547200"
   ]
  },
  {
   "cell_type": "code",
   "execution_count": 23,
   "metadata": {},
   "outputs": [
    {
     "name": "stdout",
     "output_type": "stream",
     "text": [
      "628949330 km\n"
     ]
    }
   ],
   "source": [
    "distancia = ( jupitar - tierra )\n",
    "print(\"{0} km\".format(distancia))"
   ]
  },
  {
   "cell_type": "code",
   "execution_count": 25,
   "metadata": {},
   "outputs": [
    {
     "name": "stdout",
     "output_type": "stream",
     "text": [
      "390577534 millas\n"
     ]
    }
   ],
   "source": [
    "distanciaM = distancia * 0.621\n",
    "print(\"{0} millas\".format(math.ceil(distanciaM)))"
   ]
  },
  {
   "cell_type": "markdown",
   "metadata": {},
   "source": [
    "# Ejercicio 2: convierte cadenas en números y usa valores absolutos"
   ]
  },
  {
   "cell_type": "markdown",
   "metadata": {},
   "source": [
    "Mercurio    =\t57900000\n",
    "\n",
    "Venus       =\t108200000\n",
    "\n",
    "Tierra      =\t149600000\n",
    "\n",
    "Marte       =\t227900000\n",
    "\n",
    "Jupiter     =\t778600000\n",
    "\n",
    "Saturno     =\t1433500000\n",
    "\n",
    "Urano       =\t2872500000\n",
    "\n",
    "Neptuno     =\t4495100000\n"
   ]
  },
  {
   "cell_type": "code",
   "execution_count": 1,
   "metadata": {},
   "outputs": [],
   "source": [
    "planet1 = \"Tierra\"\n",
    "planet2 = \"Jupiter\"\n",
    "\n",
    "first_planet = input(\"Ingrese la distancia entre {0} y el sol:\".format(planet1))\n",
    "second_planet = input(\"Ingrese la distancia entre {0} y el sol:\".format(planet2))"
   ]
  },
  {
   "cell_type": "code",
   "execution_count": 2,
   "metadata": {},
   "outputs": [],
   "source": [
    "disFirstPlanet = int(first_planet)\n",
    "disSecondPlanet = int(second_planet)\n"
   ]
  },
  {
   "cell_type": "code",
   "execution_count": 3,
   "metadata": {},
   "outputs": [
    {
     "name": "stdout",
     "output_type": "stream",
     "text": [
      "La distancia entre los dos planetas es 0.621\n"
     ]
    }
   ],
   "source": [
    "distancia = abs(disFirstPlanet - disSecondPlanet) * 0.621\n",
    "print(\"La distancia entre los dos planetas es {0}\".format(distancia))"
   ]
  }
 ],
 "metadata": {
  "interpreter": {
   "hash": "6e9df89b6beb019add75d6a31e4e238a57d57afff428819ceca183fea7c8fd60"
  },
  "kernelspec": {
   "display_name": "Python 3.10.2 64-bit",
   "language": "python",
   "name": "python3"
  },
  "language_info": {
   "codemirror_mode": {
    "name": "ipython",
    "version": 3
   },
   "file_extension": ".py",
   "mimetype": "text/x-python",
   "name": "python",
   "nbconvert_exporter": "python",
   "pygments_lexer": "ipython3",
   "version": "3.10.2"
  },
  "orig_nbformat": 4
 },
 "nbformat": 4,
 "nbformat_minor": 2
}
