{
 "cells": [
  {
   "cell_type": "markdown",
   "metadata": {},
   "source": [
    "## Ejercicio - Escribir declaraciones if, else y elif"
   ]
  },
  {
   "cell_type": "markdown",
   "metadata": {},
   "source": [
    "### Problema 1"
   ]
  },
  {
   "cell_type": "code",
   "execution_count": null,
   "metadata": {},
   "outputs": [],
   "source": [
    "velAsteroide = 49\n",
    "\n",
    "if velAsteroide > 25:\n",
    "    print(\"Un asteroide se acerca a la Tierra demasiao rapido\")\n",
    "else:\n",
    "    print(\"Es un dia tranquilo, sigue con tus actividades\")"
   ]
  },
  {
   "cell_type": "markdown",
   "metadata": {},
   "source": [
    "### Problema 2"
   ]
  },
  {
   "cell_type": "code",
   "execution_count": 1,
   "metadata": {},
   "outputs": [
    {
     "name": "stdout",
     "output_type": "stream",
     "text": [
      "No ocurre nada, pero siempre mira el cielo\n"
     ]
    }
   ],
   "source": [
    "velAsteroide = 19\n",
    "\n",
    "if velAsteroide == 20:\n",
    "    print(\"Se ve un destello, un asteroide se acerca a la tierra\")\n",
    "elif velAsteroide > 20:\n",
    "    print(\"Se ve un destello, un asteroide se acerca a la tierra\")\n",
    "else:\n",
    "    print(\"No ocurre nada, pero siempre mira el cielo\")\n"
   ]
  },
  {
   "cell_type": "markdown",
   "metadata": {},
   "source": [
    "## Ejercicio: Uso de operadores and y or"
   ]
  },
  {
   "cell_type": "markdown",
   "metadata": {},
   "source": [
    "### Problema 3"
   ]
  },
  {
   "cell_type": "code",
   "execution_count": 3,
   "metadata": {},
   "outputs": [
    {
     "name": "stdout",
     "output_type": "stream",
     "text": [
      "El asteroide causaria mucho daño\n"
     ]
    }
   ],
   "source": [
    "tamAsteroide = 50\n",
    "velAsteroide = 26\n",
    "\n",
    "if tamAsteroide > 25 and tamAsteroide < 1000:\n",
    "    print(\"El asteroide causaria mucho daño\")\n",
    "elif velAsteroide > 25:\n",
    "    print(\"Se acerca un asteroide a gran velocidad\")\n",
    "elif velAsteroide >= 20:\n",
    "    print(\"Se ve una luz, hay un asteroide en la atmosfera\")\n",
    "else:\n",
    "    print(\"No hay nada\")\n",
    "\n"
   ]
  }
 ],
 "metadata": {
  "interpreter": {
   "hash": "fcd95bacc803fcaaf3c7cc0391ed2759c70b904d0ee3f6baa32f3030dbb1279b"
  },
  "kernelspec": {
   "display_name": "Python 3.9.10 64-bit (windows store)",
   "language": "python",
   "name": "python3"
  },
  "language_info": {
   "codemirror_mode": {
    "name": "ipython",
    "version": 3
   },
   "file_extension": ".py",
   "mimetype": "text/x-python",
   "name": "python",
   "nbconvert_exporter": "python",
   "pygments_lexer": "ipython3",
   "version": "3.10.2"
  },
  "orig_nbformat": 4
 },
 "nbformat": 4,
 "nbformat_minor": 2
}
